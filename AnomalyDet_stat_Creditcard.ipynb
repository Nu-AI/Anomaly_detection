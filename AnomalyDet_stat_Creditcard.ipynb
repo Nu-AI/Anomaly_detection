{
 "cells": [
  {
   "cell_type": "code",
   "execution_count": 1,
   "id": "0629f9c6",
   "metadata": {},
   "outputs": [],
   "source": [
    "import numpy as np\n",
    "import pandas as pd\n",
    "import seaborn as sns\n",
    "from matplotlib import pyplot as plt\n",
    "\n",
    "from collections import Counter\n",
    "\n",
    "%matplotlib inline"
   ]
  },
  {
   "cell_type": "code",
   "execution_count": 2,
   "id": "a5efdfdd",
   "metadata": {},
   "outputs": [],
   "source": [
    "df_raw = pd.read_csv('/Users/kriz/Downloads/creditcard.csv')\n",
    "df=df_raw.drop(['Time'], axis=1)\n"
   ]
  },
  {
   "cell_type": "code",
   "execution_count": 3,
   "id": "f0e91ec7",
   "metadata": {},
   "outputs": [],
   "source": [
    "input_feature_list = ['V1', 'V2', 'V3', 'V4', 'V5', 'V6', 'V7', 'V8', 'V9', 'V10', 'V11','V12', 'V13', 'V14', 'V15',\n",
    "                'V16', 'V17', 'V18', 'V19', 'V20', 'V21','V22', 'V23', 'V24', 'V25', 'V26', 'V27', 'V28', 'Amount']"
   ]
  },
  {
   "cell_type": "code",
   "execution_count": 6,
   "id": "d12df659",
   "metadata": {},
   "outputs": [
    {
     "name": "stdout",
     "output_type": "stream",
     "text": [
      "Total number of outliers is: 4076\n"
     ]
    }
   ],
   "source": [
    "def Std_method (df,n,features):\n",
    "    \"\"\"\n",
    "    Takes a dataframe df of features and returns an index list corresponding to the observations \n",
    "    containing more than n outliers according to the standard deviation method.\n",
    "    \"\"\"\n",
    "    #\n",
    "    outlier_indices = []\n",
    "    \n",
    "    #loop through columns\n",
    "    \n",
    "    for i in features:\n",
    "        \n",
    "        # calculate the mean and standard deviation of the data frame\n",
    "        data_mean = df[i].mean()\n",
    "        data_std = df[i].std()\n",
    "        \n",
    "        # calculate the threshold value\n",
    "        upper_threshold = data_mean + 3* data_std \n",
    "        lower_threshold = data_mean - 3* data_std\n",
    "        \n",
    "        #anything above upper threshold or  below  lower threshold is considered as anomaly\n",
    "        \n",
    "        # Determining a list of indices of outliers for feature column        \n",
    "        outlier_list_column= df[(df[i] < lower_threshold) | (df[i] > upper_threshold)].index\n",
    "        \n",
    "        # appending the found outlier indices for column to the list of outlier indices \n",
    "        outlier_indices.extend(outlier_list_column)\n",
    "        \n",
    "    # selecting observations containing more than x outliers\n",
    "    outlier_indices = Counter(outlier_indices)        \n",
    "    multiple_outliers = list( k for k, v in outlier_indices.items() if v > n )\n",
    "    \n",
    "    # Calculate the number of records below and above lower and above bound value respectively\n",
    "    df1 = df[df[i] > upper_threshold]\n",
    "    df2 = df[df[i] < lower_threshold]\n",
    "    print('Total number of outliers is:', df1.shape[0]+ df2.shape[0])\n",
    "    \n",
    "    return multiple_outliers   \n",
    "\n",
    "# detecting outliers\n",
    "Outliers_Std_Dev = Std_method(df,1,input_feature_list)\n",
    "\n",
    "# dropping outliers\n",
    "df_out2 = df.drop(Outliers_Std_Dev, axis = 0).reset_index(drop=True)\n",
    "        "
   ]
  },
  {
   "cell_type": "code",
   "execution_count": 7,
   "id": "867c8bf0",
   "metadata": {},
   "outputs": [
    {
     "name": "stdout",
     "output_type": "stream",
     "text": [
      "Total number of outliers is: 4076\n"
     ]
    }
   ],
   "source": [
    "def z_score_method (df,n,features):\n",
    "    \"\"\"\n",
    "    Takes a dataframe df of features and returns an index list corresponding to the observations \n",
    "    containing more than n outliers according to the z-score method.\n",
    "    \"\"\"\n",
    "    outlier_list = []\n",
    "    \n",
    "    for i in features:\n",
    "        # calculate the mean and standard deviation of the data frame\n",
    "        data_mean = df[i].mean()\n",
    "        data_std = df[i].std()\n",
    "        threshold = 3\n",
    "        \n",
    "        z_score = abs( (df[i] - data_mean)/data_std )\n",
    "        \n",
    "        # Determining a list of indices of outliers for feature column        \n",
    "        outlier_list_column =  df[z_score > threshold].index\n",
    "        \n",
    "        # appending the found outlier indices for column to the list of outlier indices \n",
    "        outlier_list.extend(outlier_list_column)\n",
    "        \n",
    "    # selecting observations containing more than x outliers\n",
    "    outlier_list = Counter(outlier_list)        \n",
    "    multiple_outliers = list( k for k, v in outlier_list.items() if v > n )\n",
    "    \n",
    "    # Calculate the number of outlier records\n",
    "    df1 = df[z_score > threshold]\n",
    "    print('Total number of outliers is:', df1.shape[0])\n",
    "    \n",
    "    return multiple_outliers\n",
    "\n",
    "# detecting outliers\n",
    "Outliers_z_score = z_score_method(df,1,input_feature_list)\n",
    "\n",
    "# dropping outliers\n",
    "df_out3 = df.drop(Outliers_z_score, axis = 0).reset_index(drop=True)"
   ]
  },
  {
   "cell_type": "code",
   "execution_count": 8,
   "id": "5ffc95b9",
   "metadata": {},
   "outputs": [
    {
     "name": "stdout",
     "output_type": "stream",
     "text": [
      "Total number of outliers is: 27828\n"
     ]
    }
   ],
   "source": [
    "from scipy.stats import median_abs_deviation\n",
    "\n",
    "def mod_z_score_method (df,n,features):\n",
    "    \"\"\"\n",
    "    Takes a dataframe df of features and returns an index list corresponding to the observations \n",
    "    containing more than n outliers according to the z-score modified method.\n",
    "    \"\"\"\n",
    "    outlier_list = []\n",
    "    \n",
    "    for i in features:\n",
    "        \n",
    "        # calculate the mean and standard deviation of the data frame\n",
    "        data_mean = df[i].mean()\n",
    "        data_std  = df[i].std()\n",
    "        \n",
    "        #set a threshold value \n",
    "        threshold = 4\n",
    "        MAD       = median_abs_deviation  #median of (input data - deviation)\n",
    "        \n",
    "        mod_z_score = abs(0.6745*(df[i] - data_mean)/MAD(df[i]) )\n",
    "                \n",
    "        # Determining a list of indices of outliers for feature column        \n",
    "        outlier_list_column =  df[mod_z_score >threshold].index\n",
    "        \n",
    "        # appending the found outlier indices for column to the list of outlier indices \n",
    "        outlier_list.extend(outlier_list_column)\n",
    "        \n",
    "    # selecting observations containing more than x outliers\n",
    "    outlier_list = Counter(outlier_list)        \n",
    "    multiple_outliers = list( k for k, v in outlier_list.items() if v > n )\n",
    "    \n",
    "    \n",
    "     # Calculate the number of outlier records\n",
    "    df1 = df[mod_z_score >threshold]\n",
    "    print('Total number of outliers is:', df1.shape[0])\n",
    "    \n",
    "    return multiple_outliers\n",
    "    \n",
    "# detecting outliers\n",
    "Outliers_z_score = mod_z_score_method(df,1,input_feature_list)\n",
    "\n",
    "# dropping outliers\n",
    "df_out4 = df.drop(Outliers_z_score, axis = 0).reset_index(drop=True)\n",
    "    "
   ]
  },
  {
   "cell_type": "code",
   "execution_count": 9,
   "id": "e06866bc",
   "metadata": {},
   "outputs": [
    {
     "name": "stdout",
     "output_type": "stream",
     "text": [
      "Total number of outliers is: 31904\n"
     ]
    }
   ],
   "source": [
    "def IQR_method (df,n,features):\n",
    "    \"\"\"\n",
    "    Takes a dataframe and returns an index list corresponding to the observations \n",
    "    containing more than n outliers according to the  IQR method.\n",
    "    \"\"\"\n",
    "    outlier_list = []\n",
    "    \n",
    "    for i in features:\n",
    "                \n",
    "        # 1st quartile (25%)\n",
    "        \n",
    "        Q1 = df[i].quantile(0.25)\n",
    "        \n",
    "        # 3rd quartile (75%)\n",
    "       \n",
    "        Q3 = df[i].quantile(0.75)\n",
    "        \n",
    "        # Interquartile range (IQR)\n",
    "        IQR = Q3 - Q1\n",
    "        \n",
    "        # outlier step\n",
    "        upper_threshold = Q3 + 1.5 * IQR\n",
    "        lower_threshold = Q1 - 1.5 * IQR\n",
    "        \n",
    "        # Determining a list of indices of outliers\n",
    "        outlier_list_column = df[(df[i] <lower_threshold) | (df[i] >upper_threshold)].index\n",
    "        \n",
    "        # appending the list of outliers \n",
    "        outlier_list.extend(outlier_list_column)\n",
    "        \n",
    "    # selecting observations containing more than x outliers\n",
    "    outlier_list = Counter(outlier_list)        \n",
    "    multiple_outliers = list( k for k, v in outlier_list.items() if v > n )\n",
    "    \n",
    "    # Calculate the number of records below and above lower and above bound value respectively\n",
    "    df1 = df[df[i] < lower_threshold]\n",
    "    df2 = df[df[i] > upper_threshold]\n",
    "    \n",
    "    print('Total number of outliers is:', df1.shape[0]+df2.shape[0])\n",
    "    \n",
    "    return multiple_outliers\n",
    "\n",
    "# detecting outliers\n",
    "Outliers_IQR = IQR_method(df,1,input_feature_list)\n",
    "\n",
    "# dropping outliers\n",
    "df_out = df.drop(Outliers_IQR, axis = 0).reset_index(drop=True)"
   ]
  },
  {
   "cell_type": "code",
   "execution_count": null,
   "id": "8e3e7a93",
   "metadata": {},
   "outputs": [],
   "source": []
  }
 ],
 "metadata": {
  "kernelspec": {
   "display_name": "Python 3 (ipykernel)",
   "language": "python",
   "name": "python3"
  },
  "language_info": {
   "codemirror_mode": {
    "name": "ipython",
    "version": 3
   },
   "file_extension": ".py",
   "mimetype": "text/x-python",
   "name": "python",
   "nbconvert_exporter": "python",
   "pygments_lexer": "ipython3",
   "version": "3.9.13"
  }
 },
 "nbformat": 4,
 "nbformat_minor": 5
}
